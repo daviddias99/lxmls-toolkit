{
 "cells": [
  {
   "cell_type": "markdown",
   "metadata": {},
   "source": [
    "# Exercise 0.10\n",
    "Over the next couple of exercises we will make use of the Galton dataset, a dataset of heights of fathers\n",
    "and sons from the 1877 paper that first discussed the “regression to the mean” phenomenon. This dataset has 928 pairs\n",
    "of numbers.\n",
    "* Use the ``load()`` function in the ``galton.py`` file to load the dataset. The file is located under the lxmls/readers folder. Type the following in your Python interpreter:\n",
    "\n",
    "``import galton as galton\n",
    "galton_data = galton.load()``\n",
    "\n",
    "* What are the mean height and standard deviation of all the people in the sample? What is the mean height of the\n",
    "fathers and of the sons?\n",
    "* Plot a histogram of all the heights (you might want to use the plt.hist function and the ravel method on\n",
    "arrays).\n",
    "* Plot the height of the father versus the height of the son.\n",
    "* You should notice that there are several points that are exactly the same (e.g., there are 21 pairs with the values 68.5\n",
    "and 70.2). Use the ``?`` command in ipython to read the documentation for the numpy.random.randn function\n",
    "and add random jitter (i.e., move the point a little bit) to the points before displaying them. Does your impression\n",
    "of the data change?"
   ]
  },
  {
   "cell_type": "code",
   "execution_count": 1,
   "metadata": {},
   "outputs": [],
   "source": [
    "%load_ext autoreload\n",
    "%autoreload 2"
   ]
  },
  {
   "cell_type": "code",
   "execution_count": 2,
   "metadata": {},
   "outputs": [],
   "source": [
    "from lxmls.readers import galton"
   ]
  },
  {
   "cell_type": "code",
   "execution_count": 3,
   "metadata": {},
   "outputs": [],
   "source": [
    "galton_data = galton.load()"
   ]
  },
  {
   "cell_type": "code",
   "execution_count": 4,
   "metadata": {},
   "outputs": [
    {
     "name": "stdout",
     "output_type": "stream",
     "text": [
      "[68.30818966 68.08846983]\n",
      "[1.78637014 2.51658435]\n"
     ]
    }
   ],
   "source": [
    "print(galton_data.mean(0))\n",
    "print(galton_data.std(0))"
   ]
  },
  {
   "cell_type": "code",
   "execution_count": 5,
   "metadata": {},
   "outputs": [],
   "source": [
    "import matplotlib.pyplot as plt\n",
    "%matplotlib inline  "
   ]
  },
  {
   "cell_type": "code",
   "execution_count": 6,
   "metadata": {},
   "outputs": [
    {
     "data": {
      "text/plain": [
       "(array([[  0.,  14.,  23.,  66., 289., 219., 183.,  68.,  43.,  23.],\n",
       "        [ 12.,  32., 107., 117., 138., 120., 167., 163.,  41.,  31.]]),\n",
       " array([61.7, 62.9, 64.1, 65.3, 66.5, 67.7, 68.9, 70.1, 71.3, 72.5, 73.7]),\n",
       " <a list of 2 BarContainer objects>)"
      ]
     },
     "execution_count": 6,
     "metadata": {},
     "output_type": "execute_result"
    },
    {
     "data": {
      "image/png": "[encoded data removed]",
      "text/plain": [
       "<Figure size 432x288 with 1 Axes>"
      ]
     },
     "metadata": {
      "needs_background": "light"
     },
     "output_type": "display_data"
    }
   ],
   "source": [
    "plt.hist(galton_data)"
   ]
  },
  {
   "cell_type": "code",
   "execution_count": 7,
   "metadata": {},
   "outputs": [
    {
     "data": {
      "text/plain": [
       "[<matplotlib.lines.Line2D at 0x7f92ae97fd30>]"
      ]
     },
     "execution_count": 7,
     "metadata": {},
     "output_type": "execute_result"
    },
    {
     "data": {
      "image/png": "[encoded data removed]",
      "text/plain": [
       "<Figure size 432x288 with 1 Axes>"
      ]
     },
     "metadata": {
      "needs_background": "light"
     },
     "output_type": "display_data"
    }
   ],
   "source": [
    "plt.plot(galton_data[:,0], galton_data[:,1], '.')"
   ]
  },
  {
   "cell_type": "code",
   "execution_count": 8,
   "metadata": {},
   "outputs": [
    {
     "name": "stdout",
     "output_type": "stream",
     "text": [
      "\u001b[0;31mDocstring:\u001b[0m\n",
      "randn(d0, d1, ..., dn)\n",
      "\n",
      "Return a sample (or samples) from the \"standard normal\" distribution.\n",
      "\n",
      ".. note::\n",
      "    This is a convenience function for users porting code from Matlab,\n",
      "    and wraps `standard_normal`. That function takes a\n",
      "    tuple to specify the size of the output, which is consistent with\n",
      "    other NumPy functions like `numpy.zeros` and `numpy.ones`.\n",
      "\n",
      ".. note::\n",
      "    New code should use the ``standard_normal`` method of a ``default_rng()``\n",
      "    instance instead; please see the :ref:`random-quick-start`.\n",
      "\n",
      "If positive int_like arguments are provided, `randn` generates an array\n",
      "of shape ``(d0, d1, ..., dn)``, filled\n",
      "with random floats sampled from a univariate \"normal\" (Gaussian)\n",
      "distribution of mean 0 and variance 1. A single float randomly sampled\n",
      "from the distribution is returned if no argument is provided.\n",
      "\n",
      "Parameters\n",
      "----------\n",
      "d0, d1, ..., dn : int, optional\n",
      "    The dimensions of the returned array, must be non-negative.\n",
      "    If no argument is given a single Python float is returned.\n",
      "\n",
      "Returns\n",
      "-------\n",
      "Z : ndarray or float\n",
      "    A ``(d0, d1, ..., dn)``-shaped array of floating-point samples from\n",
      "    the standard normal distribution, or a single such float if\n",
      "    no parameters were supplied.\n",
      "\n",
      "See Also\n",
      "--------\n",
      "standard_normal : Similar, but takes a tuple as its argument.\n",
      "normal : Also accepts mu and sigma arguments.\n",
      "Generator.standard_normal: which should be used for new code.\n",
      "\n",
      "Notes\n",
      "-----\n",
      "For random samples from :math:`N(\\mu, \\sigma^2)`, use:\n",
      "\n",
      "``sigma * np.random.randn(...) + mu``\n",
      "\n",
      "Examples\n",
      "--------\n",
      ">>> np.random.randn()\n",
      "2.1923875335537315  # random\n",
      "\n",
      "Two-by-four array of samples from N(3, 6.25):\n",
      "\n",
      ">>> 3 + 2.5 * np.random.randn(2, 4)\n",
      "array([[-4.49401501,  4.00950034, -1.81814867,  7.29718677],   # random\n",
      "       [ 0.39924804,  4.68456316,  4.99394529,  4.84057254]])  # random\n",
      "\u001b[0;31mType:\u001b[0m      builtin_function_or_method\n"
     ]
    }
   ],
   "source": [
    "import numpy as np\n",
    "np.random.randn?"
   ]
  },
  {
   "cell_type": "code",
   "execution_count": 9,
   "metadata": {},
   "outputs": [
    {
     "data": {
      "text/plain": [
       "[<matplotlib.lines.Line2D at 0x7f92ae8f39a0>]"
      ]
     },
     "execution_count": 9,
     "metadata": {},
     "output_type": "execute_result"
    },
    {
     "data": {
      "image/png": "[encoded data removed]",
      "text/plain": [
       "<Figure size 432x288 with 1 Axes>"
      ]
     },
     "metadata": {
      "needs_background": "light"
     },
     "output_type": "display_data"
    }
   ],
   "source": [
    "galton_data_randn = galton_data + 0.5*np.random.randn(len(galton_data), 2)\n",
    "plt.plot(galton_data_randn[:,0], galton_data_randn[:,1], '.')"
   ]
  },
  {
   "cell_type": "markdown",
   "metadata": {},
   "source": [
    "# Exercise 0.11 \n",
    "Consider the function $f(x) = x^2$ and its derivative \n",
    "$ \\frac{\\partial f}{\\partial x} $.\n",
    "Look at the derivative of that function at points ``[-2,0,2]``, draw the tangent to the graph in that point \n",
    "$ \\frac{\\partial f}{\\partial x}(-2)=-4 $, \n",
    "$ \\frac{\\partial f}{\\partial x}(0)=0 $ and \n",
    "$ \\frac{\\partial f}{\\partial x}(2)=4 $. \n",
    "\n",
    "For example, the tangent\n",
    "equation for $x = −2$ is $y = −4x − b$, where $b = f(−2)$. The following code plots the function and the derivatives on\n",
    "those points using matplotlib (See Figure 4)."
   ]
  },
  {
   "cell_type": "code",
   "execution_count": 10,
   "metadata": {},
   "outputs": [
    {
     "data": {
      "image/png": "[encoded data removed]",
      "text/plain": [
       "<Figure size 432x288 with 1 Axes>"
      ]
     },
     "metadata": {
      "needs_background": "light"
     },
     "output_type": "display_data"
    }
   ],
   "source": [
    "import numpy as np\n",
    "import matplotlib.pyplot as plt\n",
    "\n",
    "a = np.arange(-5,5,0.01)\n",
    "f_x = np.power(a,2)\n",
    "plt.plot(a,f_x)\n",
    "plt.xlim(-5,5)\n",
    "plt.ylim(-5,15)\n",
    "k = np.array([-2,0,2])\n",
    "plt.plot(k,k**2,\"bo\")\n",
    "for i in k:\n",
    "    plt.plot(a, (2*i)*a - (i**2))"
   ]
  },
  {
   "cell_type": "markdown",
   "metadata": {},
   "source": [
    "# Exercise 0.12 \n",
    "Consider the function $f(x) = (x + 2)^2 − 16 \\text{exp}(−(x − 2)^2)$\n",
    ". Make a function that computes the\n",
    "function value given x"
   ]
  },
  {
   "cell_type": "code",
   "execution_count": 11,
   "metadata": {},
   "outputs": [],
   "source": [
    "def get_y(x):\n",
    "    return (x+2)**2 - 16*np.exp(-((x-2)**2))"
   ]
  },
  {
   "cell_type": "markdown",
   "metadata": {},
   "source": [
    "Draw a plot around $x \\in [−8, 8]$."
   ]
  },
  {
   "cell_type": "code",
   "execution_count": 12,
   "metadata": {},
   "outputs": [
    {
     "data": {
      "text/plain": [
       "[<matplotlib.lines.Line2D at 0x7f92ae84ffd0>]"
      ]
     },
     "execution_count": 12,
     "metadata": {},
     "output_type": "execute_result"
    },
    {
     "data": {
      "image/png": "[encoded data removed]",
      "text/plain": [
       "<Figure size 432x288 with 1 Axes>"
      ]
     },
     "metadata": {
      "needs_background": "light"
     },
     "output_type": "display_data"
    }
   ],
   "source": [
    "x = np.arange(-8, 8, 0.001)\n",
    "y = get_y(x)\n",
    "plt.plot(x, y)"
   ]
  },
  {
   "cell_type": "markdown",
   "metadata": {},
   "source": [
    "Calculate the derivative of the function $f(x)$, implement the function ``get grad(x)``."
   ]
  },
  {
   "cell_type": "code",
   "execution_count": 13,
   "metadata": {},
   "outputs": [],
   "source": [
    "def get_grad(x):\n",
    "    return (2*x+4)-16*(-2*x + 4)*np.exp(-((x-2)**2))"
   ]
  },
  {
   "cell_type": "markdown",
   "metadata": {},
   "source": [
    "Use the method gradient descent to find the minimum of this function. Convince yourself that the code is doing the\n",
    "proper thing. Look at the constants we defined. Note, that we are using a simple approach to pick the step size (always\n",
    "have the value step size) which is not necessarily correct"
   ]
  },
  {
   "cell_type": "code",
   "execution_count": 14,
   "metadata": {},
   "outputs": [],
   "source": [
    "def gradient_descent(start_x,func,grad, step_size=0.1):\n",
    "    # Precision of the solution\n",
    "    prec = 0.0001\n",
    "    #Use a fixed small step size\n",
    "    #step_size = 0.1\n",
    "    #max iterations\n",
    "    max_iter = 100\n",
    "    x_new = start_x\n",
    "    res = []\n",
    "    for i in range(max_iter):\n",
    "        x_old = x_new\n",
    "        #Use beta egual to -1 for gradient descent\n",
    "        x_new = x_old - step_size * grad(x_new)\n",
    "        f_x_new = func(x_new)\n",
    "        f_x_old = func(x_old)\n",
    "        res.append([x_new,f_x_new])\n",
    "        if(abs(f_x_new - f_x_old) < prec):\n",
    "            print(\"change in function values too small, leaving\")\n",
    "            return np.array(res)\n",
    "    print(\"exceeded maximum number of iterations, leaving\")\n",
    "    return np.array(res)"
   ]
  },
  {
   "cell_type": "markdown",
   "metadata": {},
   "source": [
    "Run the gradient descent algorithm starting from $x_0 = −8$ and plot the minimizing sequence."
   ]
  },
  {
   "cell_type": "code",
   "execution_count": 15,
   "metadata": {},
   "outputs": [
    {
     "name": "stdout",
     "output_type": "stream",
     "text": [
      "change in function values too small, leaving\n"
     ]
    },
    {
     "data": {
      "text/plain": [
       "[<matplotlib.lines.Line2D at 0x7f92ae7c7e20>]"
      ]
     },
     "execution_count": 15,
     "metadata": {},
     "output_type": "execute_result"
    },
    {
     "data": {
      "image/png": "[encoded data removed]",
      "text/plain": [
       "<Figure size 432x288 with 1 Axes>"
      ]
     },
     "metadata": {
      "needs_background": "light"
     },
     "output_type": "display_data"
    }
   ],
   "source": [
    "x = np.arange(-8,8,0.001)\n",
    "y = get_y(x)\n",
    "plt.plot(x,y)\n",
    "\n",
    "x_0 = -8\n",
    "res = gradient_descent(x_0,get_y,get_grad)\n",
    "plt.plot(res[:,0],res[:,1],'r+')"
   ]
  },
  {
   "cell_type": "code",
   "execution_count": 16,
   "metadata": {},
   "outputs": [
    {
     "name": "stdout",
     "output_type": "stream",
     "text": [
      "change in function values too small, leaving\n"
     ]
    },
    {
     "data": {
      "text/plain": [
       "[<matplotlib.lines.Line2D at 0x7f92ae7389d0>]"
      ]
     },
     "execution_count": 16,
     "metadata": {},
     "output_type": "execute_result"
    },
    {
     "data": {
      "image/png": "[encoded data removed]",
      "text/plain": [
       "<Figure size 432x288 with 1 Axes>"
      ]
     },
     "metadata": {
      "needs_background": "light"
     },
     "output_type": "display_data"
    }
   ],
   "source": [
    "x = np.arange(-8,8,0.001)\n",
    "y = get_y(x)\n",
    "plt.plot(x,y)\n",
    "\n",
    "x_0 = 8\n",
    "res = gradient_descent(x_0,get_y,get_grad, step_size=0.01)\n",
    "plt.plot(res[:,0],res[:,1],'+')"
   ]
  },
  {
   "cell_type": "markdown",
   "metadata": {},
   "source": [
    "# Exercise 0.13 \n",
    "Consider the linear regression problem (ordinary least squares) on the Galton dataset, with a single response\n",
    "variable\n",
    "\n",
    "\\begin{equation*}\n",
    "y = x^Tw + ε\n",
    "\\end{equation*}\n",
    "\n",
    "The linear regression problem is, given a set $\\{y\n",
    "(i)\\}_i$ of samples of $y$ and the corresponding $x^{(i)}$ vectors, estimate w\n",
    "to minimise the sum of the $\\epsilon$ variables. Traditionally this is solved analytically to obtain a closed form solution (although\n",
    "this is **not the way in which it should be computed** in this exercise, linear algebra packages have an optimised solver,\n",
    "with numpy, use ``numpy.linalg.lstsq``).\n",
    "Alternatively, we can define the error function for each possible $w$:\n",
    "\n",
    "\n",
    "$e(w) = \\sum_i ( x^{(i)^T} w - y^{(i)} )^2.$"
   ]
  },
  {
   "cell_type": "markdown",
   "metadata": {},
   "source": [
    "1) Derive the gradient of the error $\\frac{\\partial e}{\\partial w_j}$."
   ]
  },
  {
   "cell_type": "markdown",
   "metadata": {},
   "source": [
    "$\\frac{\\partial e}{\\partial w_j} = \\sum_i 2 x_j^{(i)} ( x^{(i)^T} w - y^{(i)} ).$\n"
   ]
  },
  {
   "cell_type": "markdown",
   "metadata": {},
   "source": [
    "2) Implement a solver based on this for two dimensional problem (*i.e.*, $w \\in R^2$)"
   ]
  },
  {
   "cell_type": "markdown",
   "metadata": {},
   "source": [
    "3) Use this method on the Galton dataset from the previous exercise to estimate the relationship between father and son’s height. Try two formulas\n",
    "\n",
    "$s = f w_1 + \\epsilon$, \n",
    "\n",
    "where s is the son’s height, and f is the father heights; and\n",
    "\n",
    "$s = f w_1 + 1w_0 + \\epsilon$,\n",
    "\n",
    "where the input variable is now two dimensional: $(f , 1)$. This allows the intercept to be non-zero."
   ]
  },
  {
   "cell_type": "code",
   "execution_count": 17,
   "metadata": {},
   "outputs": [],
   "source": [
    "# Get data.\n",
    "use_bias = True #True\n",
    "y = galton_data[:,0] \n",
    "if use_bias:\n",
    "    x = np.vstack( [galton_data[:,1], np.ones(galton_data.shape[0])] )  \n",
    "else:\n",
    "    x = np.vstack( [galton_data[:,1], np.zeros(galton_data.shape[0])] )\n",
    "    \n",
    "# derivative of the error function e\n",
    "def get_e_dev(w, x, y): # y, x, \n",
    "    error_i = np.matmul(w, x) - y\n",
    "    derro_dw = np.matmul(2*x, error_i) / len(y)\n",
    "    # print(derro_dw, np.multiply(error_i,error_i).sum())\n",
    "    return derro_dw\n",
    "\n",
    "# Initialize w.\n",
    "w = np.array([1,0])\n",
    "\n",
    "#get_e_dev(w, x, y)"
   ]
  },
  {
   "cell_type": "code",
   "execution_count": 18,
   "metadata": {},
   "outputs": [
    {
     "name": "stdout",
     "output_type": "stream",
     "text": [
      "[ 0.07098102 49.99370558] 184.68095528527564\n",
      "[ 0.43879991 49.99909818] 136.4220600489782\n",
      "[ 0.12345095 49.99447093] 100.9495202572448\n",
      "[ 0.393815   49.99843418] 74.87554833579645\n",
      "[ 0.16201881 49.99503238] 55.70996234146782\n",
      "[ 0.36074901 49.997945  ] 41.622362352741895\n",
      "[ 0.190368   49.99544396] 31.267319019815016\n",
      "[ 0.33644399 49.99758431] 23.655878992091928\n",
      "[ 0.211206   49.99574537] 18.061115411765847\n",
      "[ 0.31857867 49.99731807] 13.948703119532933\n",
      "[ 0.22652292 49.9959658 ] 10.925888191392636\n",
      "[ 0.30544685 49.99712125] 8.703978167086031\n",
      "[ 0.23778158 49.99612672] 7.0707706177701\n",
      "[ 0.29579436 49.99697547] 5.870286856760637\n",
      "[ 0.24605724 49.99624388] 4.987875271291632\n",
      "[ 0.28869935 49.9968672 ] 4.339261576271314\n",
      "[ 0.25214026 49.99632889] 3.862500239871777\n",
      "[ 0.2834842  49.99678649] 3.51205840578615\n",
      "[ 0.25661157 49.99639025] 3.2544673000402407\n",
      "[ 0.27965084 49.99672606] 3.0651258120911775\n",
      "[ 0.25989821 49.99643424] 2.9259509777883514\n",
      "[ 0.27683316 49.99668051] 2.8236509747197633\n",
      "[ 0.26231406 49.99646546] 2.748455693208693\n",
      "[ 0.27476205 49.99664592] 2.6931836467639454\n",
      "[ 0.26408984 49.99648729] 2.652556107722301\n",
      "[ 0.2732397  49.99661938] 2.622692964942884\n",
      "[ 0.26539514 49.99650222] 2.600742155688997\n",
      "[ 0.27212072 49.99659876] 2.584607280770308\n",
      "[ 0.26635461 49.99651208] 2.5727473889627577\n",
      "[ 0.27129824 49.99658248] 2.5640298092150204\n",
      "[ 0.26705988 49.99651821] 2.557621975453295\n",
      "[ 0.27069369 49.9965694 ] 2.552911912765344\n",
      "[ 0.26757831 49.9965216 ] 2.549449791035571\n",
      "[ 0.27024933 49.99655867] 2.5469049641396952\n",
      "[ 0.26795939 49.99652297] 2.5450343917482328\n",
      "[ 0.26992272 49.99654966] 2.543659427878615\n",
      "[ 0.26823952 49.99652287] 2.5426487593979283\n",
      "[ 0.26968267 49.99654193] 2.541905865026343\n",
      "[ 0.26844544 49.99652168] 2.5413597971194446\n",
      "[ 0.26950624 49.99653513] 2.54095840584813\n",
      "[ 0.26859683 49.99651968] 2.5406633586546694\n",
      "[ 0.26937656 49.99652901] 2.5404464793205115\n",
      "[ 0.26870811 49.9965171 ] 2.540287057010304\n",
      "[ 0.26928127 49.9965234 ] 2.540169868293683\n",
      "[ 0.26878993 49.99651409] 2.540083723239001\n",
      "[ 0.26921123 49.99651816] 2.540020396724359\n",
      "[ 0.26885009 49.99651075] 2.5399738429013845\n",
      "[ 0.26915977 49.99651319] 2.5399396177894116\n",
      "[ 0.26889432 49.99650719] 2.5399144548552988\n",
      "[ 0.26912196 49.99650842] 2.5398959530447653\n",
      "[ 0.26892685 49.99650345] 2.539882347470879\n",
      "[ 0.26909419 49.9965038 ] 2.539872340859397\n",
      "[ 0.26895078 49.99649959] 2.5398649796532173\n",
      "[ 0.26907379 49.99649929] 2.5398595629433807\n",
      "[ 0.26896839 49.99649563] 2.5398555755290886\n",
      "[ 0.26905881 49.99649485] 2.5398526387137226\n",
      "[ 0.26898134 49.99649161] 2.5398504741375962\n",
      "[ 0.26904782 49.99649048] 2.5398488771933505\n",
      "[ 0.26899088 49.99648754] 2.5398476974850284\n",
      "[ 0.26903975 49.99648615] 2.5398468244645844\n",
      "[ 0.26899791 49.99648342] 2.539846176874049\n",
      "[ 0.26903384 49.99648184] 2.539845694985021\n",
      "[ 0.26900309 49.99647929] 2.539845334894338\n",
      "[ 0.26902951 49.99647757] 2.539845064331129\n",
      "[ 0.26900692 49.99647513] 2.5398448595747976\n",
      "[ 0.26902635 49.99647331] 2.539844703189597\n",
      "[ 0.26900975 49.99647096] 2.5398445823594424\n",
      "[ 0.26902404 49.99646906] 2.539844487663913\n",
      "[ 0.26901185 49.99646677] 2.539844412178556\n",
      "[ 0.26902236 49.99646482] 2.539844350813581\n",
      "[ 0.2690134  49.99646258] 2.5398442998277515\n",
      "[ 0.26902114 49.99646059] 2.539844256471082\n"
     ]
    },
    {
     "data": {
      "text/plain": [
       "array([ 0.26902114, 49.99646059])"
      ]
     },
     "execution_count": 18,
     "metadata": {},
     "output_type": "execute_result"
    }
   ],
   "source": [
    "# Initialize w.\n",
    "w = np.array([0.5,50.0])\n",
    "\n",
    "def grad_desc(start_w, eps, prec, x,y): #gradient=get_e_dev\n",
    "    '''\n",
    "    runs the gradient descent algorithm and returns the list of estimates\n",
    "    example of use grad_desc(start_x=3.9, eps=0.01, prec=0.00001)\n",
    "    '''\n",
    "    w_new = start_w\n",
    "    w_old = start_w + prec * 2\n",
    "    res = [w_new]\n",
    "    mses = []\n",
    "    while abs(w_old-w_new).sum() > prec:\n",
    "        w_old = w_new\n",
    "        w_new = w_old - eps * get_e_dev(w_new, x, y)\n",
    "        res.append(w_new)\n",
    "        \n",
    "        error_i = np.matmul(w_new, x) - y\n",
    "        mse = np.multiply(error_i, error_i).mean()\n",
    "        mses.append(mse)\n",
    "        print(w_new, mse)\n",
    "    return np.array(res), np.array(mses)\n",
    "\n",
    "res, mses = grad_desc(w, 0.0002, 0.00001, x, y)\n",
    "w_sgd = res[-1]\n",
    "w_sgd\n",
    "#res"
   ]
  },
  {
   "cell_type": "markdown",
   "metadata": {},
   "source": [
    "4) Plot the regression line you obtain with the points from the previous exercise."
   ]
  },
  {
   "cell_type": "code",
   "execution_count": 19,
   "metadata": {},
   "outputs": [
    {
     "data": {
      "image/png": "[encoded data removed]",
      "text/plain": [
       "<Figure size 432x288 with 1 Axes>"
      ]
     },
     "metadata": {
      "needs_background": "light"
     },
     "output_type": "display_data"
    }
   ],
   "source": [
    "plt.plot(res[:, 0], res[:, 1], '*')\n",
    "plt.show()"
   ]
  },
  {
   "cell_type": "code",
   "execution_count": 20,
   "metadata": {},
   "outputs": [
    {
     "data": {
      "text/plain": [
       "[<matplotlib.lines.Line2D at 0x7f92ae6d1430>]"
      ]
     },
     "execution_count": 20,
     "metadata": {},
     "output_type": "execute_result"
    },
    {
     "data": {
      "image/png": "[encoded data removed]",
      "text/plain": [
       "<Figure size 432x288 with 1 Axes>"
      ]
     },
     "metadata": {
      "needs_background": "light"
     },
     "output_type": "display_data"
    }
   ],
   "source": [
    "plt.plot(mses)"
   ]
  },
  {
   "cell_type": "code",
   "execution_count": 21,
   "metadata": {},
   "outputs": [
    {
     "data": {
      "text/plain": [
       "2356.9754700051644"
      ]
     },
     "execution_count": 21,
     "metadata": {},
     "output_type": "execute_result"
    }
   ],
   "source": [
    "np.multiply(y - np.matmul(w_sgd,x), y - np.matmul(w_sgd,x)).sum()"
   ]
  },
  {
   "cell_type": "markdown",
   "metadata": {},
   "source": [
    "5) Use the ``np.linalg.lstsq`` function and compare to your solution."
   ]
  },
  {
   "cell_type": "code",
   "execution_count": 22,
   "metadata": {},
   "outputs": [
    {
     "name": "stdout",
     "output_type": "stream",
     "text": [
      "0.3256474973105947 46.135349860111255\n",
      "2338.1017855270875\n"
     ]
    },
    {
     "name": "stderr",
     "output_type": "stream",
     "text": [
      "/tmp/ipykernel_47547/764654846.py:2: FutureWarning: `rcond` parameter will change to the default of machine precision times ``max(M, N)`` where M and N are the input matrix dimensions.\n",
      "To use the future default and silence this warning we advise to pass `rcond=None`, to keep using the old, explicitly pass `rcond=-1`.\n",
      "  m, c = np.linalg.lstsq(x.T, y)[0]\n"
     ]
    }
   ],
   "source": [
    "from numpy.linalg import lstsq\n",
    "m, c = np.linalg.lstsq(x.T, y)[0]\n",
    "print(m,c)\n",
    "w_lstsq = np.array([m, c])\n",
    "error2  = np.multiply(y - np.matmul(w_lstsq,x), y - np.matmul(w_lstsq,x)).sum()\n",
    "print(error2)\n",
    "#lstsq(a=, b=)"
   ]
  },
  {
   "cell_type": "markdown",
   "metadata": {},
   "source": [
    "Plotting regressions:"
   ]
  },
  {
   "cell_type": "code",
   "execution_count": 23,
   "metadata": {},
   "outputs": [
    {
     "data": {
      "text/plain": [
       "[<matplotlib.lines.Line2D at 0x7f92ae897910>]"
      ]
     },
     "execution_count": 23,
     "metadata": {},
     "output_type": "execute_result"
    },
    {
     "data": {
      "image/png": "[encoded data removed]",
      "text/plain": [
       "<Figure size 432x288 with 1 Axes>"
      ]
     },
     "metadata": {
      "needs_background": "light"
     },
     "output_type": "display_data"
    }
   ],
   "source": [
    "plt.plot(galton_data_randn[:,0], galton_data_randn[:,1], \".\")\n",
    "plt.title(\"We nailed it??\")\n",
    "maxim, minim = int(np.max(galton_data_randn[:,0])), int(np.min(galton_data_randn[:,0]))\n",
    "xvals = np.array(range(minim-1, maxim+1))\n",
    "\n",
    "# Gradient descent solution\n",
    "yvals = w_sgd[0] * xvals + w_sgd[1]\n",
    "plt.plot(xvals, yvals, '--', c='k',linewidth=2)\n",
    "\n",
    "# solution from closed form\n",
    "yvals2 = w_lstsq[0]  * xvals + w_lstsq[1]\n",
    "plt.plot(xvals, yvals2, '--', c='r',linewidth=2)"
   ]
  },
  {
   "cell_type": "markdown",
   "metadata": {},
   "source": [
    "# Exercise 0.14 \n",
    "Use the debugger to debug the ``buggy.py`` script which attempts to repeatedly perform the following\n",
    "computation:...."
   ]
  },
  {
   "cell_type": "markdown",
   "metadata": {},
   "source": [
    "1. Start $x_0 = 0$\n",
    "2. Iterate\n",
    "\n",
    "    (a) $x'_{t+1} = x_t + r$, where $r$ is a random variable.\n",
    "\n",
    "    (b) if $x'_{t+1} >= 1$, then stop.\n",
    "    \n",
    "    (c) if $x'_{t+1} <= 0$, then $x_{t+1} = 0$\n",
    "\n",
    "    (d) else $x_{t+1} = x'_{t+1}$\n",
    "\n",
    "3. Return the number of iterations"
   ]
  },
  {
   "cell_type": "markdown",
   "metadata": {},
   "source": [
    "Having repeated this computation a number of times, the programme prints the average. Unfortunately, the program\n",
    "has a few bugs, which you need to fix."
   ]
  },
  {
   "cell_type": "code",
   "execution_count": 5,
   "metadata": {},
   "outputs": [
    {
     "name": "stdout",
     "output_type": "stream",
     "text": [
      "287.212\n"
     ]
    }
   ],
   "source": [
    "import numpy as np\n",
    "def next_x(x):\n",
    "    x += np.random.normal(scale=.0625)\n",
    "    if x <= 0:\n",
    "        return 0.\n",
    "    return x\n",
    "\n",
    "\n",
    "def walk():\n",
    "    iters = 0\n",
    "    x=0\n",
    "    while x <= 1.:\n",
    "        x = next_x(x)\n",
    "        iters += 1\n",
    "    return iters\n",
    "\n",
    "\n",
    "walks = np.array([walk() for i in range(1000)])\n",
    "\n",
    "print(np.mean(walks))"
   ]
  }
 ],
 "metadata": {
  "interpreter": {
   "hash": "5c3b704110c77b90d64ce8b21d4a6457e3afdcb64c4b47bea194423c999c2f69"
  },
  "kernelspec": {
   "display_name": "Python 3.9.5 64-bit ('lxmls': conda)",
   "name": "python3"
  },
  "language_info": {
   "codemirror_mode": {
    "name": "ipython",
    "version": 3
   },
   "file_extension": ".py",
   "mimetype": "text/x-python",
   "name": "python",
   "nbconvert_exporter": "python",
   "pygments_lexer": "ipython3",
   "version": "3.9.5"
  }
 },
 "nbformat": 4,
 "nbformat_minor": 2
}