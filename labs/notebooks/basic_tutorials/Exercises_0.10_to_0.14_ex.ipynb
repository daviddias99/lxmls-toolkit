{
 "cells": [
  {
   "cell_type": "markdown",
   "metadata": {},
   "source": [
    "# Exercise 0.10\n",
    "Over the next couple of exercises we will make use of the Galton dataset, a dataset of heights of fathers\n",
    "and sons from the 1877 paper that first discussed the “regression to the mean” phenomenon. This dataset has 928 pairs\n",
    "of numbers.\n",
    "* Use the ``load()`` function in the ``galton.py`` file to load the dataset. The file is located under the lxmls/readers folder. Type the following in your Python interpreter:\n",
    "\n",
    "``import galton as galton\n",
    "galton_data = galton.load()``\n",
    "\n",
    "* What are the mean height and standard deviation of all the people in the sample? What is the mean height of the\n",
    "fathers and of the sons?\n",
    "* Plot a histogram of all the heights (you might want to use the plt.hist function and the ravel method on\n",
    "arrays).\n",
    "* Plot the height of the father versus the height of the son.\n",
    "* You should notice that there are several points that are exactly the same (e.g., there are 21 pairs with the values 68.5\n",
    "and 70.2). Use the ``?`` command in ipython to read the documentation for the numpy.random.randn function\n",
    "and add random jitter (i.e., move the point a little bit) to the points before displaying them. Does your impression\n",
    "of the data change?"
   ]
  },
  {
   "cell_type": "code",
   "execution_count": 1,
   "metadata": {},
   "outputs": [],
   "source": [
    "%load_ext autoreload\n",
    "%autoreload 2"
   ]
  },
  {
   "cell_type": "code",
   "execution_count": 18,
   "metadata": {},
   "outputs": [],
   "source": [
    "import lxmls.readers.galton as galton\n",
    "import numpy as np"
   ]
  },
  {
   "cell_type": "code",
   "execution_count": 9,
   "metadata": {},
   "outputs": [],
   "source": [
    "galton_data = galton.load()"
   ]
  },
  {
   "cell_type": "code",
   "execution_count": 11,
   "metadata": {},
   "outputs": [
    {
     "name": "stdout",
     "output_type": "stream",
     "text": [
      "General\n",
      "68.19832974137931\n",
      "2.185000397276442\n",
      "Fathers and sons\n",
      "[68.30818966 68.08846983]\n",
      "[1.78637014 2.51658435]\n"
     ]
    }
   ],
   "source": [
    "print('General')\n",
    "print(galton_data.mean())\n",
    "print(galton_data.std())\n",
    "print('Fathers and sons')\n",
    "print(galton_data.mean(0))\n",
    "print(galton_data.std(0))"
   ]
  },
  {
   "cell_type": "code",
   "execution_count": 12,
   "metadata": {},
   "outputs": [],
   "source": [
    "from matplotlib import pyplot as plt"
   ]
  },
  {
   "cell_type": "code",
   "execution_count": 13,
   "metadata": {},
   "outputs": [
    {
     "data": {
      "text/plain": [
       "(array([ 12.,  46., 130., 183., 427., 339., 350., 231.,  84.,  54.]),\n",
       " array([61.7, 62.9, 64.1, 65.3, 66.5, 67.7, 68.9, 70.1, 71.3, 72.5, 73.7]),\n",
       " <BarContainer object of 10 artists>)"
      ]
     },
     "execution_count": 13,
     "metadata": {},
     "output_type": "execute_result"
    },
    {
     "data": {
      "image/png": "[encoded data removed]",
      "text/plain": [
       "<Figure size 432x288 with 1 Axes>"
      ]
     },
     "metadata": {
      "needs_background": "light"
     },
     "output_type": "display_data"
    }
   ],
   "source": [
    "plt.hist(galton_data.ravel())"
   ]
  },
  {
   "cell_type": "code",
   "execution_count": 14,
   "metadata": {},
   "outputs": [
    {
     "data": {
      "text/plain": [
       "(array([[  0.,  14.,  23.,  66., 289., 219., 183.,  68.,  43.,  23.],\n",
       "        [ 12.,  32., 107., 117., 138., 120., 167., 163.,  41.,  31.]]),\n",
       " array([61.7, 62.9, 64.1, 65.3, 66.5, 67.7, 68.9, 70.1, 71.3, 72.5, 73.7]),\n",
       " <a list of 2 BarContainer objects>)"
      ]
     },
     "execution_count": 14,
     "metadata": {},
     "output_type": "execute_result"
    },
    {
     "data": {
      "image/png": "[encoded data removed]",
      "text/plain": [
       "<Figure size 432x288 with 1 Axes>"
      ]
     },
     "metadata": {
      "needs_background": "light"
     },
     "output_type": "display_data"
    }
   ],
   "source": [
    "plt.hist(galton_data)"
   ]
  },
  {
   "cell_type": "code",
   "execution_count": 16,
   "metadata": {},
   "outputs": [
    {
     "data": {
      "text/plain": [
       "[<matplotlib.lines.Line2D at 0x7f9e7f48d5b0>]"
      ]
     },
     "execution_count": 16,
     "metadata": {},
     "output_type": "execute_result"
    },
    {
     "data": {
      "image/png": "[encoded data removed]",
      "text/plain": [
       "<Figure size 432x288 with 1 Axes>"
      ]
     },
     "metadata": {
      "needs_background": "light"
     },
     "output_type": "display_data"
    }
   ],
   "source": [
    "plt.plot(galton_data[:,0], galton_data[:,1], '.')"
   ]
  },
  {
   "cell_type": "code",
   "execution_count": 19,
   "metadata": {},
   "outputs": [
    {
     "name": "stdout",
     "output_type": "stream",
     "text": [
      "\u001b[0;31mDocstring:\u001b[0m\n",
      "randn(d0, d1, ..., dn)\n",
      "\n",
      "Return a sample (or samples) from the \"standard normal\" distribution.\n",
      "\n",
      ".. note::\n",
      "    This is a convenience function for users porting code from Matlab,\n",
      "    and wraps `standard_normal`. That function takes a\n",
      "    tuple to specify the size of the output, which is consistent with\n",
      "    other NumPy functions like `numpy.zeros` and `numpy.ones`.\n",
      "\n",
      ".. note::\n",
      "    New code should use the ``standard_normal`` method of a ``default_rng()``\n",
      "    instance instead; please see the :ref:`random-quick-start`.\n",
      "\n",
      "If positive int_like arguments are provided, `randn` generates an array\n",
      "of shape ``(d0, d1, ..., dn)``, filled\n",
      "with random floats sampled from a univariate \"normal\" (Gaussian)\n",
      "distribution of mean 0 and variance 1. A single float randomly sampled\n",
      "from the distribution is returned if no argument is provided.\n",
      "\n",
      "Parameters\n",
      "----------\n",
      "d0, d1, ..., dn : int, optional\n",
      "    The dimensions of the returned array, must be non-negative.\n",
      "    If no argument is given a single Python float is returned.\n",
      "\n",
      "Returns\n",
      "-------\n",
      "Z : ndarray or float\n",
      "    A ``(d0, d1, ..., dn)``-shaped array of floating-point samples from\n",
      "    the standard normal distribution, or a single such float if\n",
      "    no parameters were supplied.\n",
      "\n",
      "See Also\n",
      "--------\n",
      "standard_normal : Similar, but takes a tuple as its argument.\n",
      "normal : Also accepts mu and sigma arguments.\n",
      "Generator.standard_normal: which should be used for new code.\n",
      "\n",
      "Notes\n",
      "-----\n",
      "For random samples from :math:`N(\\mu, \\sigma^2)`, use:\n",
      "\n",
      "``sigma * np.random.randn(...) + mu``\n",
      "\n",
      "Examples\n",
      "--------\n",
      ">>> np.random.randn()\n",
      "2.1923875335537315  # random\n",
      "\n",
      "Two-by-four array of samples from N(3, 6.25):\n",
      "\n",
      ">>> 3 + 2.5 * np.random.randn(2, 4)\n",
      "array([[-4.49401501,  4.00950034, -1.81814867,  7.29718677],   # random\n",
      "       [ 0.39924804,  4.68456316,  4.99394529,  4.84057254]])  # random\n",
      "\u001b[0;31mType:\u001b[0m      builtin_function_or_method\n"
     ]
    }
   ],
   "source": [
    "np.random.randn?"
   ]
  },
  {
   "cell_type": "code",
   "execution_count": 26,
   "metadata": {},
   "outputs": [
    {
     "data": {
      "text/plain": [
       "[<matplotlib.lines.Line2D at 0x7f9e7cd9a460>]"
      ]
     },
     "execution_count": 26,
     "metadata": {},
     "output_type": "execute_result"
    },
    {
     "data": {
      "image/png": "[encoded data removed]",
      "text/plain": [
       "<Figure size 432x288 with 1 Axes>"
      ]
     },
     "metadata": {
      "needs_background": "light"
     },
     "output_type": "display_data"
    }
   ],
   "source": [
    "new_galton = galton_data + 0.15 * np.random.randn(*galton_data.shape)\n",
    "plt.plot(new_galton[:,0], new_galton[:,1], '.')"
   ]
  },
  {
   "cell_type": "markdown",
   "metadata": {},
   "source": [
    "# Exercise 0.11 \n",
    "Consider the function $f(x) = x^2$ and its derivative \n",
    "$ \\frac{\\partial f}{\\partial x} $.\n",
    "Look at the derivative of that function at points ``[-2,0,2]``, draw the tangent to the graph in that point \n",
    "$ \\frac{\\partial f}{\\partial x}(-2)=-4 $, \n",
    "$ \\frac{\\partial f}{\\partial x}(0)=0 $ and \n",
    "$ \\frac{\\partial f}{\\partial x}(2)=4 $. \n",
    "\n",
    "For example, the tangent\n",
    "equation for $x = −2$ is $y = −4x − b$, where $b = f(−2)$. The following code plots the function and the derivatives on\n",
    "those points using matplotlib (See Figure 4)."
   ]
  },
  {
   "cell_type": "code",
   "execution_count": 33,
   "metadata": {},
   "outputs": [
    {
     "name": "stdout",
     "output_type": "stream",
     "text": [
      "[-2  0  2]\n"
     ]
    },
    {
     "data": {
      "image/png": "[encoded data removed]",
      "text/plain": [
       "<Figure size 432x288 with 1 Axes>"
      ]
     },
     "metadata": {
      "needs_background": "light"
     },
     "output_type": "display_data"
    }
   ],
   "source": [
    "import numpy as np\n",
    "import matplotlib.pyplot as plt\n",
    "\n",
    "a = np.arange(-5,5,0.01)\n",
    "f_x = np.power(a,2)\n",
    "plt.plot(a,f_x)\n",
    "plt.xlim(-5,5)\n",
    "plt.ylim(-5,15)\n",
    "k = np.array([-2,0,2])\n",
    "plt.plot(k,k**2,\"bo\")\n",
    "print(k)\n",
    "for i in k:\n",
    "    plt.plot(a, (2*i)*a - (i**2))"
   ]
  },
  {
   "cell_type": "markdown",
   "metadata": {},
   "source": [
    "# Exercise 0.12 \n",
    "Consider the function $f(x) = (x + 2)^2 − 16 \\text{exp}(−(x − 2)^2)$\n",
    ". Make a function that computes the\n",
    "function value given x"
   ]
  },
  {
   "cell_type": "code",
   "execution_count": 34,
   "metadata": {},
   "outputs": [],
   "source": [
    "def funcA(x):\n",
    "  return (x+2)**2 - 16 * np.exp(-(x-2)**2)"
   ]
  },
  {
   "cell_type": "markdown",
   "metadata": {},
   "source": [
    "Draw a plot around $x \\in [−8, 8]$."
   ]
  },
  {
   "cell_type": "code",
   "execution_count": 39,
   "metadata": {},
   "outputs": [
    {
     "data": {
      "text/plain": [
       "[<matplotlib.lines.Line2D at 0x7f9e7cce8130>]"
      ]
     },
     "execution_count": 39,
     "metadata": {},
     "output_type": "execute_result"
    },
    {
     "data": {
      "image/png": "[encoded data removed]",
      "text/plain": [
       "<Figure size 432x288 with 1 Axes>"
      ]
     },
     "metadata": {
      "needs_background": "light"
     },
     "output_type": "display_data"
    }
   ],
   "source": [
    "x = np.arange(-8,8,0.01)\n",
    "plt.plot(x, funcA(x))"
   ]
  },
  {
   "cell_type": "markdown",
   "metadata": {},
   "source": [
    "Calculate the derivative of the function $f(x)$, implement the function ``get grad(x)``."
   ]
  },
  {
   "cell_type": "code",
   "execution_count": 57,
   "metadata": {},
   "outputs": [],
   "source": [
    "def get_grad(x):\n",
    "  return 2 * x + 4 + 32 * (x-2) * np.exp(-(x-2)**2) "
   ]
  },
  {
   "cell_type": "markdown",
   "metadata": {},
   "source": [
    "Use the method gradient descent to find the minimum of this function. Convince yourself that the code is doing the\n",
    "proper thing. Look at the constants we defined. Note, that we are using a simple approach to pick the step size (always\n",
    "have the value step size) which is not necessarily correct"
   ]
  },
  {
   "cell_type": "code",
   "execution_count": 42,
   "metadata": {},
   "outputs": [],
   "source": [
    "def gradient_descent(start_x,func,grad, step_size=0.1):\n",
    "    # Precision of the solution\n",
    "    prec = 0.0001\n",
    "    #Use a fixed small step size\n",
    "    #step_size = 0.1\n",
    "    #max iterations\n",
    "    max_iter = 100\n",
    "    x_new = start_x\n",
    "    res = []\n",
    "    for i in range(max_iter):\n",
    "        x_old = x_new\n",
    "        #Use beta egual to -1 for gradient descent\n",
    "        x_new = x_old - step_size * grad(x_new)\n",
    "        f_x_new = func(x_new)\n",
    "        f_x_old = func(x_old)\n",
    "        res.append([x_new,f_x_new])\n",
    "        if(abs(f_x_new - f_x_old) < prec):\n",
    "            print(\"change in function values too small, leaving\")\n",
    "            return np.array(res)\n",
    "    print(\"exceeded maximum number of iterations, leaving\")\n",
    "    return np.array(res)"
   ]
  },
  {
   "cell_type": "markdown",
   "metadata": {},
   "source": [
    "Run the gradient descent algorithm starting from $x_0 = −8$ and plot the minimizing sequence."
   ]
  },
  {
   "cell_type": "code",
   "execution_count": null,
   "metadata": {},
   "outputs": [],
   "source": [
    "res = gradient_descent(-8, funcA, get_grad)\n",
    "res"
   ]
  },
  {
   "cell_type": "code",
   "execution_count": 59,
   "metadata": {},
   "outputs": [
    {
     "name": "stdout",
     "output_type": "stream",
     "text": [
      "change in function values too small, leaving\n"
     ]
    },
    {
     "data": {
      "text/plain": [
       "[<matplotlib.lines.Line2D at 0x7f9e7c57f5b0>]"
      ]
     },
     "execution_count": 59,
     "metadata": {},
     "output_type": "execute_result"
    },
    {
     "data": {
      "image/png": "[encoded data removed]",
      "text/plain": [
       "<Figure size 432x288 with 1 Axes>"
      ]
     },
     "metadata": {
      "needs_background": "light"
     },
     "output_type": "display_data"
    }
   ],
   "source": [
    "x = np.arange(-8,8,0.001)\n",
    "y = funcA(x)\n",
    "plt.plot(x,y)\n",
    "\n",
    "x_0 = 8\n",
    "res = gradient_descent(x_0,funcA,get_grad, step_size=0.01)\n",
    "plt.plot(res[:,0],res[:,1],'r+')"
   ]
  },
  {
   "cell_type": "markdown",
   "metadata": {},
   "source": [
    "# Exercise 0.13 \n",
    "Consider the linear regression problem (ordinary least squares) on the Galton dataset, with a single response\n",
    "variable\n",
    "\n",
    "\n",
    "$y = x^Tw + ε$\n",
    "\n",
    "The linear regression problem is, given a set $\\{y\n",
    "(i)\\}_i$ of samples of $y$ and the corresponding $x^{(i)}$ vectors, estimate w\n",
    "to minimise the sum of the $\\epsilon$ variables. Traditionally this is solved analytically to obtain a closed form solution (although\n",
    "this is **not the way in which it should be computed** in this exercise, linear algebra packages have an optimised solver,\n",
    "with numpy, use ``numpy.linalg.lstsq``).\n",
    "Alternatively, we can define the error function for each possible $w$:\n",
    "\n",
    "\n",
    "$e(w) = \\sum_i ( x^{(i)^T} w - y^{(i)} )^2.$"
   ]
  },
  {
   "cell_type": "markdown",
   "metadata": {},
   "source": [
    "1) Derive the gradient of the error $\\frac{\\partial e}{\\partial w_j}$."
   ]
  },
  {
   "cell_type": "markdown",
   "metadata": {},
   "source": [
    "\n",
    "$\\frac{\\partial e}{\\partial w_j} = \\sum_i 2 x_j^{(i)} ( x^{(i)^T} w - y^{(i)} ).$\n"
   ]
  },
  {
   "cell_type": "markdown",
   "metadata": {},
   "source": [
    "2) Implement a solver based on this for two dimensional problem (*i.e.*, $w \\in R^2$)"
   ]
  },
  {
   "cell_type": "markdown",
   "metadata": {},
   "source": [
    "3) Use this method on the Galton dataset from the previous exercise to estimate the relationship between father and son’s height. Try two formulas\n",
    "\n",
    "$s = f w_1 + \\epsilon$, \n",
    "\n",
    "where s is the son’s height, and f is the father heights; and\n",
    "\n",
    "$s = f w_1 + 1w_0 + \\epsilon$,\n",
    "\n",
    "where the input variable is now two dimensional: $(f , 1)$. This allows the intercept to be non-zero."
   ]
  },
  {
   "cell_type": "code",
   "execution_count": null,
   "metadata": {},
   "outputs": [],
   "source": []
  },
  {
   "cell_type": "code",
   "execution_count": null,
   "metadata": {},
   "outputs": [],
   "source": []
  },
  {
   "cell_type": "markdown",
   "metadata": {},
   "source": [
    "4) Plot the regression line you obtain with the points from the previous exercise."
   ]
  },
  {
   "cell_type": "code",
   "execution_count": null,
   "metadata": {},
   "outputs": [],
   "source": []
  },
  {
   "cell_type": "code",
   "execution_count": null,
   "metadata": {},
   "outputs": [],
   "source": []
  },
  {
   "cell_type": "code",
   "execution_count": null,
   "metadata": {},
   "outputs": [],
   "source": []
  },
  {
   "cell_type": "markdown",
   "metadata": {},
   "source": [
    "5) Use the ``np.linalg.lstsq`` function and compare to your solution."
   ]
  },
  {
   "cell_type": "code",
   "execution_count": null,
   "metadata": {},
   "outputs": [],
   "source": []
  },
  {
   "cell_type": "markdown",
   "metadata": {},
   "source": [
    "Plotting regressions:"
   ]
  },
  {
   "cell_type": "code",
   "execution_count": null,
   "metadata": {},
   "outputs": [],
   "source": []
  },
  {
   "cell_type": "markdown",
   "metadata": {},
   "source": [
    "# Exercise 0.14 \n",
    "Use the debugger to debug the ``buggy.py`` script which attempts to repeatedly perform the following\n",
    "computation:...."
   ]
  },
  {
   "cell_type": "markdown",
   "metadata": {},
   "source": [
    "1. Start $x_0 = 0$\n",
    "2. Iterate\n",
    "\n",
    "    (a) $x'_{t+1} = x_t + r$, where $r$ is a random variable.\n",
    "\n",
    "    (b) if $x'_{t+1} >= 1$, then stop.\n",
    "    \n",
    "    (c) if $x'_{t+1} <= 0$, then $x_{t+1} = 0$\n",
    "\n",
    "    (d) else $x_{t+1} = x'_{t+1}$\n",
    "\n",
    "3. Return the number of iterations"
   ]
  },
  {
   "cell_type": "markdown",
   "metadata": {},
   "source": [
    "Having repeated this computation a number of times, the programme prints the average. Unfortunately, the program\n",
    "has a few bugs, which you need to fix."
   ]
  },
  {
   "cell_type": "code",
   "execution_count": null,
   "metadata": {},
   "outputs": [],
   "source": []
  }
 ],
 "metadata": {
  "interpreter": {
   "hash": "3ba9142d424a3fc6a83dc895066b0487888919e84b4a2c9d324f87d54f1de16f"
  },
  "kernelspec": {
   "display_name": "Python 3.9.5 64-bit ('sciencemeter': conda)",
   "name": "python3"
  },
  "language_info": {
   "codemirror_mode": {
    "name": "ipython",
    "version": 3
   },
   "file_extension": ".py",
   "mimetype": "text/x-python",
   "name": "python",
   "nbconvert_exporter": "python",
   "pygments_lexer": "ipython3",
   "version": "3.9.5"
  }
 },
 "nbformat": 4,
 "nbformat_minor": 2
}